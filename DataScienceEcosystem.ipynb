{
 "cells": [
  {
   "cell_type": "markdown",
   "id": "a9486728",
   "metadata": {},
   "source": [
    "# Data Science Tools and Ecosystem"
   ]
  },
  {
   "cell_type": "markdown",
   "id": "e24ead59",
   "metadata": {},
   "source": [
    "In this notebook, Data Science Tools and Ecosystem are summarized."
   ]
  },
  {
   "cell_type": "markdown",
   "id": "1283a626",
   "metadata": {},
   "source": [
    "Some of the popular languages that Data Scientists use are:\n",
    "<ol>\n",
    "    <li>Python</li>\n",
    "    <li>R</li>\n",
    "    <li>SQL</li>\n",
    "    <li>Java</li>\n",
    "</ol>  "
   ]
  },
  {
   "cell_type": "markdown",
   "id": "41675683",
   "metadata": {},
   "source": [
    "<b>Objectives:</b>\n",
    "<ul>\n",
    "    <li>List examples of languages, libraries and tools used in Data Science.</li>\n",
    "    <li>List the tasks that a data scientist needs to perform to build a model.</li>\n",
    "    <li>Describe cloud-based Jupyter environments and their data science features.</li>\n",
    "    <li>Explain version control and describe the Git and GitHub environment.</li>\n",
    "</ul>"
   ]
  },
  {
   "cell_type": "markdown",
   "id": "256ec133",
   "metadata": {},
   "source": [
    "Some of the commonly used libraries used by Data Scientist include:\n",
    "<ol>\n",
    "    <li>NumPy</li>\n",
    "    <li>Pandas</li>\n",
    "    <li>Matplotlib</li>\n",
    "    <li>Seaborn</li>\n",
    "</ol>"
   ]
  },
  {
   "cell_type": "markdown",
   "id": "e68bd8ad",
   "metadata": {},
   "source": [
    "| Data Science Tools |\n",
    "|:-|\n",
    "| RStudio |\n",
    "| Jupyter Notebook |\n",
    "| TensorFlow |"
   ]
  },
  {
   "cell_type": "markdown",
   "id": "d98aa6ba",
   "metadata": {},
   "source": [
    "### Below area a few examples of evaluating arithmetic expressions in Python."
   ]
  },
  {
   "cell_type": "code",
   "execution_count": 10,
   "id": "16dcaa7b",
   "metadata": {},
   "outputs": [
    {
     "data": {
      "text/plain": [
       "17"
      ]
     },
     "execution_count": 10,
     "metadata": {},
     "output_type": "execute_result"
    }
   ],
   "source": [
    "# Thia is a simple arithmetic expression to multiply then add integers.\n",
    "(3*4)+5"
   ]
  },
  {
   "cell_type": "code",
   "execution_count": 11,
   "id": "e751927d",
   "metadata": {},
   "outputs": [
    {
     "name": "stdout",
     "output_type": "stream",
     "text": [
      "3.3333333333333335\n"
     ]
    }
   ],
   "source": [
    "# This will concert 200 minutes to hours by dividing by 60\n",
    "minutes = 200\n",
    "hours = minutes/60\n",
    "print(hours)"
   ]
  },
  {
   "cell_type": "markdown",
   "id": "2c6da574",
   "metadata": {},
   "source": [
    "## Author\n",
    "Drona Ingwaba"
   ]
  }
 ],
 "metadata": {
  "kernelspec": {
   "display_name": "Python 3 (ipykernel)",
   "language": "python",
   "name": "python3"
  },
  "language_info": {
   "codemirror_mode": {
    "name": "ipython",
    "version": 3
   },
   "file_extension": ".py",
   "mimetype": "text/x-python",
   "name": "python",
   "nbconvert_exporter": "python",
   "pygments_lexer": "ipython3",
   "version": "3.11.4"
  }
 },
 "nbformat": 4,
 "nbformat_minor": 5
}
